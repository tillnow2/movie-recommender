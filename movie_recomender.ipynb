{
  "nbformat": 4,
  "nbformat_minor": 0,
  "metadata": {
    "colab": {
      "provenance": [],
      "mount_file_id": "1QhEwjYxalIKH42-9_1Cp0rjb8eSiZBOD",
      "authorship_tag": "ABX9TyMeyA75rz1MEzPpqJc7Qsgh",
      "include_colab_link": true
    },
    "kernelspec": {
      "name": "python3",
      "display_name": "Python 3"
    },
    "language_info": {
      "name": "python"
    }
  },
  "cells": [
    {
      "cell_type": "markdown",
      "metadata": {
        "id": "view-in-github",
        "colab_type": "text"
      },
      "source": [
        "<a href=\"https://colab.research.google.com/github/tillnow2/movie-recommender/blob/main/movie_recomender.ipynb\" target=\"_parent\"><img src=\"https://colab.research.google.com/assets/colab-badge.svg\" alt=\"Open In Colab\"/></a>"
      ]
    },
    {
      "cell_type": "code",
      "source": [
        "import pandas as pd\n",
        "import numpy as np"
      ],
      "metadata": {
        "id": "f2X4dDI3GBGP"
      },
      "execution_count": 269,
      "outputs": []
    },
    {
      "cell_type": "markdown",
      "source": [
        "# New Section"
      ],
      "metadata": {
        "id": "sODugJkfO7hG"
      }
    },
    {
      "cell_type": "code",
      "source": [
        "from google.colab import drive\n",
        "drive.mount('/content/drive')"
      ],
      "metadata": {
        "colab": {
          "base_uri": "https://localhost:8080/"
        },
        "id": "i1b2A0RNxpC0",
        "outputId": "44382333-d587-4ba1-c5c3-3ee69e6d1d9e"
      },
      "execution_count": 270,
      "outputs": [
        {
          "output_type": "stream",
          "name": "stdout",
          "text": [
            "Drive already mounted at /content/drive; to attempt to forcibly remount, call drive.mount(\"/content/drive\", force_remount=True).\n"
          ]
        }
      ]
    },
    {
      "cell_type": "markdown",
      "source": [
        "# New Section"
      ],
      "metadata": {
        "id": "JBTtKtJ6xuqq"
      }
    },
    {
      "cell_type": "code",
      "source": [
        "credits = pd.read_csv('/content/drive/MyDrive/credits.csv',error_bad_lines=False, engine=\"python\")\n",
        "movies = pd.read_csv('/content/drive/MyDrive/movies_metadata.csv',error_bad_lines=False, engine=\"python\")"
      ],
      "metadata": {
        "colab": {
          "base_uri": "https://localhost:8080/"
        },
        "id": "uIG1GHn6GJTP",
        "outputId": "2d560e76-e1ba-45d1-b6db-b81b34ad97f9"
      },
      "execution_count": 271,
      "outputs": [
        {
          "output_type": "stream",
          "name": "stderr",
          "text": [
            "/usr/local/lib/python3.8/dist-packages/IPython/core/interactiveshell.py:3326: FutureWarning: The error_bad_lines argument has been deprecated and will be removed in a future version.\n",
            "\n",
            "\n",
            "  exec(code_obj, self.user_global_ns, self.user_ns)\n",
            "Skipping line 40819: unexpected end of data\n"
          ]
        }
      ]
    },
    {
      "cell_type": "code",
      "source": [
        "movies.info()"
      ],
      "metadata": {
        "colab": {
          "base_uri": "https://localhost:8080/"
        },
        "id": "HkPGuP3wxGJQ",
        "outputId": "cf3ea553-5ed9-4b89-c912-743eab04670c"
      },
      "execution_count": 272,
      "outputs": [
        {
          "output_type": "stream",
          "name": "stdout",
          "text": [
            "<class 'pandas.core.frame.DataFrame'>\n",
            "RangeIndex: 45466 entries, 0 to 45465\n",
            "Data columns (total 24 columns):\n",
            " #   Column                 Non-Null Count  Dtype  \n",
            "---  ------                 --------------  -----  \n",
            " 0   adult                  45466 non-null  object \n",
            " 1   belongs_to_collection  4494 non-null   object \n",
            " 2   budget                 45466 non-null  object \n",
            " 3   genres                 45466 non-null  object \n",
            " 4   homepage               7782 non-null   object \n",
            " 5   id                     45466 non-null  object \n",
            " 6   imdb_id                45449 non-null  object \n",
            " 7   original_language      45455 non-null  object \n",
            " 8   original_title         45466 non-null  object \n",
            " 9   overview               44512 non-null  object \n",
            " 10  popularity             45461 non-null  object \n",
            " 11  poster_path            45080 non-null  object \n",
            " 12  production_companies   45463 non-null  object \n",
            " 13  production_countries   45463 non-null  object \n",
            " 14  release_date           45379 non-null  object \n",
            " 15  revenue                45460 non-null  float64\n",
            " 16  runtime                45203 non-null  float64\n",
            " 17  spoken_languages       45460 non-null  object \n",
            " 18  status                 45379 non-null  object \n",
            " 19  tagline                20412 non-null  object \n",
            " 20  title                  45460 non-null  object \n",
            " 21  video                  45460 non-null  object \n",
            " 22  vote_average           45460 non-null  float64\n",
            " 23  vote_count             45460 non-null  float64\n",
            "dtypes: float64(4), object(20)\n",
            "memory usage: 8.3+ MB\n"
          ]
        }
      ]
    },
    {
      "cell_type": "code",
      "source": [
        "#check null values\n",
        "movies.isnull().sum()\n",
        "\n",
        "# movies = movies.dropna(how='any',axis=0)\n",
        "# credits = credits.dropna(how='any',axis=0)\n"
      ],
      "metadata": {
        "id": "Ifi5Xzu6zUDp",
        "colab": {
          "base_uri": "https://localhost:8080/"
        },
        "outputId": "bd177896-c112-41cb-ee3c-f8063d598f6c"
      },
      "execution_count": 273,
      "outputs": [
        {
          "output_type": "execute_result",
          "data": {
            "text/plain": [
              "adult                        0\n",
              "belongs_to_collection    40972\n",
              "budget                       0\n",
              "genres                       0\n",
              "homepage                 37684\n",
              "id                           0\n",
              "imdb_id                     17\n",
              "original_language           11\n",
              "original_title               0\n",
              "overview                   954\n",
              "popularity                   5\n",
              "poster_path                386\n",
              "production_companies         3\n",
              "production_countries         3\n",
              "release_date                87\n",
              "revenue                      6\n",
              "runtime                    263\n",
              "spoken_languages             6\n",
              "status                      87\n",
              "tagline                  25054\n",
              "title                        6\n",
              "video                        6\n",
              "vote_average                 6\n",
              "vote_count                   6\n",
              "dtype: int64"
            ]
          },
          "metadata": {},
          "execution_count": 273
        }
      ]
    },
    {
      "cell_type": "code",
      "source": [
        "movies = movies.dropna(how='any',axis=0)"
      ],
      "metadata": {
        "id": "Cw2raFdmy-d_"
      },
      "execution_count": 274,
      "outputs": []
    },
    {
      "cell_type": "code",
      "source": [
        "movies.head()"
      ],
      "metadata": {
        "colab": {
          "base_uri": "https://localhost:8080/",
          "height": 768
        },
        "id": "4jFl_bmXzApG",
        "outputId": "d15893fd-65c2-4ecd-c674-a9afb0a4d73b"
      },
      "execution_count": 275,
      "outputs": [
        {
          "output_type": "execute_result",
          "data": {
            "text/plain": [
              "     adult                              belongs_to_collection    budget  \\\n",
              "9    False  {'id': 645, 'name': 'James Bond Collection', '...  58000000   \n",
              "68   False  {'id': 43563, 'name': 'Friday Collection', 'po...   3500000   \n",
              "69   False  {'id': 10924, 'name': 'From Dusk Till Dawn Col...  19000000   \n",
              "153  False  {'id': 439053, 'name': 'Brooklyn Cigar Store C...   2000000   \n",
              "178  False  {'id': 286162, 'name': 'Power Rangers Collecti...  15000000   \n",
              "\n",
              "                                                genres  \\\n",
              "9    [{'id': 12, 'name': 'Adventure'}, {'id': 28, '...   \n",
              "68                      [{'id': 35, 'name': 'Comedy'}]   \n",
              "69   [{'id': 27, 'name': 'Horror'}, {'id': 28, 'nam...   \n",
              "153                     [{'id': 35, 'name': 'Comedy'}]   \n",
              "178  [{'id': 28, 'name': 'Action'}, {'id': 12, 'nam...   \n",
              "\n",
              "                                              homepage     id    imdb_id  \\\n",
              "9         http://www.mgm.com/view/movie/757/Goldeneye/    710  tt0113189   \n",
              "68       http://www.newline.com/properties/friday.html  10634  tt0113118   \n",
              "69   http://www.miramax.com/movie/from-dusk-till-dawn/    755  tt0116367   \n",
              "153         http://miramax.com/movie/blue-in-the-face/   5894  tt0112541   \n",
              "178                       http://www.powerrangers.com/   9070  tt0113820   \n",
              "\n",
              "    original_language                           original_title  \\\n",
              "9                  en                                GoldenEye   \n",
              "68                 en                                   Friday   \n",
              "69                 en                      From Dusk Till Dawn   \n",
              "153                en                         Blue in the Face   \n",
              "178                en  Mighty Morphin Power Rangers: The Movie   \n",
              "\n",
              "                                              overview  ... release_date  \\\n",
              "9    James Bond must unmask the mysterious head of ...  ...   1995-11-16   \n",
              "68   Craig and Smokey are two guys in Los Angeles h...  ...   1995-04-26   \n",
              "69   Seth Gecko and his younger brother Richard are...  ...   1996-01-19   \n",
              "153  Auggie runs a small tobacco shop in Brooklyn, ...  ...   1995-09-15   \n",
              "178  Power up with six incredible teens who out-man...  ...   1995-06-30   \n",
              "\n",
              "         revenue runtime                                   spoken_languages  \\\n",
              "9    352194034.0   130.0  [{'iso_639_1': 'en', 'name': 'English'}, {'iso...   \n",
              "68    28215918.0    91.0           [{'iso_639_1': 'en', 'name': 'English'}]   \n",
              "69    25836616.0   108.0  [{'iso_639_1': 'en', 'name': 'English'}, {'iso...   \n",
              "153    1275000.0    83.0           [{'iso_639_1': 'en', 'name': 'English'}]   \n",
              "178   66000000.0    92.0           [{'iso_639_1': 'en', 'name': 'English'}]   \n",
              "\n",
              "       status                                            tagline  \\\n",
              "9    Released               No limits. No fears. No substitutes.   \n",
              "68   Released  A lot can go down between thursday and saturda...   \n",
              "69   Released  One night is all that stands between them and ...   \n",
              "153  Released                    Welcome to the planet Brooklyn.   \n",
              "178  Released                                   The Power Is On!   \n",
              "\n",
              "                                       title  video vote_average vote_count  \n",
              "9                                  GoldenEye  False          6.6     1194.0  \n",
              "68                                    Friday  False          7.0      513.0  \n",
              "69                       From Dusk Till Dawn  False          6.9     1644.0  \n",
              "153                         Blue in the Face  False          6.8       28.0  \n",
              "178  Mighty Morphin Power Rangers: The Movie  False          5.2      153.0  \n",
              "\n",
              "[5 rows x 24 columns]"
            ],
            "text/html": [
              "\n",
              "  <div id=\"df-c742abc0-a0a2-46bc-800d-840bfe2cf1af\">\n",
              "    <div class=\"colab-df-container\">\n",
              "      <div>\n",
              "<style scoped>\n",
              "    .dataframe tbody tr th:only-of-type {\n",
              "        vertical-align: middle;\n",
              "    }\n",
              "\n",
              "    .dataframe tbody tr th {\n",
              "        vertical-align: top;\n",
              "    }\n",
              "\n",
              "    .dataframe thead th {\n",
              "        text-align: right;\n",
              "    }\n",
              "</style>\n",
              "<table border=\"1\" class=\"dataframe\">\n",
              "  <thead>\n",
              "    <tr style=\"text-align: right;\">\n",
              "      <th></th>\n",
              "      <th>adult</th>\n",
              "      <th>belongs_to_collection</th>\n",
              "      <th>budget</th>\n",
              "      <th>genres</th>\n",
              "      <th>homepage</th>\n",
              "      <th>id</th>\n",
              "      <th>imdb_id</th>\n",
              "      <th>original_language</th>\n",
              "      <th>original_title</th>\n",
              "      <th>overview</th>\n",
              "      <th>...</th>\n",
              "      <th>release_date</th>\n",
              "      <th>revenue</th>\n",
              "      <th>runtime</th>\n",
              "      <th>spoken_languages</th>\n",
              "      <th>status</th>\n",
              "      <th>tagline</th>\n",
              "      <th>title</th>\n",
              "      <th>video</th>\n",
              "      <th>vote_average</th>\n",
              "      <th>vote_count</th>\n",
              "    </tr>\n",
              "  </thead>\n",
              "  <tbody>\n",
              "    <tr>\n",
              "      <th>9</th>\n",
              "      <td>False</td>\n",
              "      <td>{'id': 645, 'name': 'James Bond Collection', '...</td>\n",
              "      <td>58000000</td>\n",
              "      <td>[{'id': 12, 'name': 'Adventure'}, {'id': 28, '...</td>\n",
              "      <td>http://www.mgm.com/view/movie/757/Goldeneye/</td>\n",
              "      <td>710</td>\n",
              "      <td>tt0113189</td>\n",
              "      <td>en</td>\n",
              "      <td>GoldenEye</td>\n",
              "      <td>James Bond must unmask the mysterious head of ...</td>\n",
              "      <td>...</td>\n",
              "      <td>1995-11-16</td>\n",
              "      <td>352194034.0</td>\n",
              "      <td>130.0</td>\n",
              "      <td>[{'iso_639_1': 'en', 'name': 'English'}, {'iso...</td>\n",
              "      <td>Released</td>\n",
              "      <td>No limits. No fears. No substitutes.</td>\n",
              "      <td>GoldenEye</td>\n",
              "      <td>False</td>\n",
              "      <td>6.6</td>\n",
              "      <td>1194.0</td>\n",
              "    </tr>\n",
              "    <tr>\n",
              "      <th>68</th>\n",
              "      <td>False</td>\n",
              "      <td>{'id': 43563, 'name': 'Friday Collection', 'po...</td>\n",
              "      <td>3500000</td>\n",
              "      <td>[{'id': 35, 'name': 'Comedy'}]</td>\n",
              "      <td>http://www.newline.com/properties/friday.html</td>\n",
              "      <td>10634</td>\n",
              "      <td>tt0113118</td>\n",
              "      <td>en</td>\n",
              "      <td>Friday</td>\n",
              "      <td>Craig and Smokey are two guys in Los Angeles h...</td>\n",
              "      <td>...</td>\n",
              "      <td>1995-04-26</td>\n",
              "      <td>28215918.0</td>\n",
              "      <td>91.0</td>\n",
              "      <td>[{'iso_639_1': 'en', 'name': 'English'}]</td>\n",
              "      <td>Released</td>\n",
              "      <td>A lot can go down between thursday and saturda...</td>\n",
              "      <td>Friday</td>\n",
              "      <td>False</td>\n",
              "      <td>7.0</td>\n",
              "      <td>513.0</td>\n",
              "    </tr>\n",
              "    <tr>\n",
              "      <th>69</th>\n",
              "      <td>False</td>\n",
              "      <td>{'id': 10924, 'name': 'From Dusk Till Dawn Col...</td>\n",
              "      <td>19000000</td>\n",
              "      <td>[{'id': 27, 'name': 'Horror'}, {'id': 28, 'nam...</td>\n",
              "      <td>http://www.miramax.com/movie/from-dusk-till-dawn/</td>\n",
              "      <td>755</td>\n",
              "      <td>tt0116367</td>\n",
              "      <td>en</td>\n",
              "      <td>From Dusk Till Dawn</td>\n",
              "      <td>Seth Gecko and his younger brother Richard are...</td>\n",
              "      <td>...</td>\n",
              "      <td>1996-01-19</td>\n",
              "      <td>25836616.0</td>\n",
              "      <td>108.0</td>\n",
              "      <td>[{'iso_639_1': 'en', 'name': 'English'}, {'iso...</td>\n",
              "      <td>Released</td>\n",
              "      <td>One night is all that stands between them and ...</td>\n",
              "      <td>From Dusk Till Dawn</td>\n",
              "      <td>False</td>\n",
              "      <td>6.9</td>\n",
              "      <td>1644.0</td>\n",
              "    </tr>\n",
              "    <tr>\n",
              "      <th>153</th>\n",
              "      <td>False</td>\n",
              "      <td>{'id': 439053, 'name': 'Brooklyn Cigar Store C...</td>\n",
              "      <td>2000000</td>\n",
              "      <td>[{'id': 35, 'name': 'Comedy'}]</td>\n",
              "      <td>http://miramax.com/movie/blue-in-the-face/</td>\n",
              "      <td>5894</td>\n",
              "      <td>tt0112541</td>\n",
              "      <td>en</td>\n",
              "      <td>Blue in the Face</td>\n",
              "      <td>Auggie runs a small tobacco shop in Brooklyn, ...</td>\n",
              "      <td>...</td>\n",
              "      <td>1995-09-15</td>\n",
              "      <td>1275000.0</td>\n",
              "      <td>83.0</td>\n",
              "      <td>[{'iso_639_1': 'en', 'name': 'English'}]</td>\n",
              "      <td>Released</td>\n",
              "      <td>Welcome to the planet Brooklyn.</td>\n",
              "      <td>Blue in the Face</td>\n",
              "      <td>False</td>\n",
              "      <td>6.8</td>\n",
              "      <td>28.0</td>\n",
              "    </tr>\n",
              "    <tr>\n",
              "      <th>178</th>\n",
              "      <td>False</td>\n",
              "      <td>{'id': 286162, 'name': 'Power Rangers Collecti...</td>\n",
              "      <td>15000000</td>\n",
              "      <td>[{'id': 28, 'name': 'Action'}, {'id': 12, 'nam...</td>\n",
              "      <td>http://www.powerrangers.com/</td>\n",
              "      <td>9070</td>\n",
              "      <td>tt0113820</td>\n",
              "      <td>en</td>\n",
              "      <td>Mighty Morphin Power Rangers: The Movie</td>\n",
              "      <td>Power up with six incredible teens who out-man...</td>\n",
              "      <td>...</td>\n",
              "      <td>1995-06-30</td>\n",
              "      <td>66000000.0</td>\n",
              "      <td>92.0</td>\n",
              "      <td>[{'iso_639_1': 'en', 'name': 'English'}]</td>\n",
              "      <td>Released</td>\n",
              "      <td>The Power Is On!</td>\n",
              "      <td>Mighty Morphin Power Rangers: The Movie</td>\n",
              "      <td>False</td>\n",
              "      <td>5.2</td>\n",
              "      <td>153.0</td>\n",
              "    </tr>\n",
              "  </tbody>\n",
              "</table>\n",
              "<p>5 rows × 24 columns</p>\n",
              "</div>\n",
              "      <button class=\"colab-df-convert\" onclick=\"convertToInteractive('df-c742abc0-a0a2-46bc-800d-840bfe2cf1af')\"\n",
              "              title=\"Convert this dataframe to an interactive table.\"\n",
              "              style=\"display:none;\">\n",
              "        \n",
              "  <svg xmlns=\"http://www.w3.org/2000/svg\" height=\"24px\"viewBox=\"0 0 24 24\"\n",
              "       width=\"24px\">\n",
              "    <path d=\"M0 0h24v24H0V0z\" fill=\"none\"/>\n",
              "    <path d=\"M18.56 5.44l.94 2.06.94-2.06 2.06-.94-2.06-.94-.94-2.06-.94 2.06-2.06.94zm-11 1L8.5 8.5l.94-2.06 2.06-.94-2.06-.94L8.5 2.5l-.94 2.06-2.06.94zm10 10l.94 2.06.94-2.06 2.06-.94-2.06-.94-.94-2.06-.94 2.06-2.06.94z\"/><path d=\"M17.41 7.96l-1.37-1.37c-.4-.4-.92-.59-1.43-.59-.52 0-1.04.2-1.43.59L10.3 9.45l-7.72 7.72c-.78.78-.78 2.05 0 2.83L4 21.41c.39.39.9.59 1.41.59.51 0 1.02-.2 1.41-.59l7.78-7.78 2.81-2.81c.8-.78.8-2.07 0-2.86zM5.41 20L4 18.59l7.72-7.72 1.47 1.35L5.41 20z\"/>\n",
              "  </svg>\n",
              "      </button>\n",
              "      \n",
              "  <style>\n",
              "    .colab-df-container {\n",
              "      display:flex;\n",
              "      flex-wrap:wrap;\n",
              "      gap: 12px;\n",
              "    }\n",
              "\n",
              "    .colab-df-convert {\n",
              "      background-color: #E8F0FE;\n",
              "      border: none;\n",
              "      border-radius: 50%;\n",
              "      cursor: pointer;\n",
              "      display: none;\n",
              "      fill: #1967D2;\n",
              "      height: 32px;\n",
              "      padding: 0 0 0 0;\n",
              "      width: 32px;\n",
              "    }\n",
              "\n",
              "    .colab-df-convert:hover {\n",
              "      background-color: #E2EBFA;\n",
              "      box-shadow: 0px 1px 2px rgba(60, 64, 67, 0.3), 0px 1px 3px 1px rgba(60, 64, 67, 0.15);\n",
              "      fill: #174EA6;\n",
              "    }\n",
              "\n",
              "    [theme=dark] .colab-df-convert {\n",
              "      background-color: #3B4455;\n",
              "      fill: #D2E3FC;\n",
              "    }\n",
              "\n",
              "    [theme=dark] .colab-df-convert:hover {\n",
              "      background-color: #434B5C;\n",
              "      box-shadow: 0px 1px 3px 1px rgba(0, 0, 0, 0.15);\n",
              "      filter: drop-shadow(0px 1px 2px rgba(0, 0, 0, 0.3));\n",
              "      fill: #FFFFFF;\n",
              "    }\n",
              "  </style>\n",
              "\n",
              "      <script>\n",
              "        const buttonEl =\n",
              "          document.querySelector('#df-c742abc0-a0a2-46bc-800d-840bfe2cf1af button.colab-df-convert');\n",
              "        buttonEl.style.display =\n",
              "          google.colab.kernel.accessAllowed ? 'block' : 'none';\n",
              "\n",
              "        async function convertToInteractive(key) {\n",
              "          const element = document.querySelector('#df-c742abc0-a0a2-46bc-800d-840bfe2cf1af');\n",
              "          const dataTable =\n",
              "            await google.colab.kernel.invokeFunction('convertToInteractive',\n",
              "                                                     [key], {});\n",
              "          if (!dataTable) return;\n",
              "\n",
              "          const docLinkHtml = 'Like what you see? Visit the ' +\n",
              "            '<a target=\"_blank\" href=https://colab.research.google.com/notebooks/data_table.ipynb>data table notebook</a>'\n",
              "            + ' to learn more about interactive tables.';\n",
              "          element.innerHTML = '';\n",
              "          dataTable['output_type'] = 'display_data';\n",
              "          await google.colab.output.renderOutput(dataTable, element);\n",
              "          const docLink = document.createElement('div');\n",
              "          docLink.innerHTML = docLinkHtml;\n",
              "          element.appendChild(docLink);\n",
              "        }\n",
              "      </script>\n",
              "    </div>\n",
              "  </div>\n",
              "  "
            ]
          },
          "metadata": {},
          "execution_count": 275
        }
      ]
    },
    {
      "cell_type": "code",
      "source": [
        "movies.info()"
      ],
      "metadata": {
        "colab": {
          "base_uri": "https://localhost:8080/"
        },
        "id": "9Dj3sw29zM2l",
        "outputId": "34856303-63bc-4a77-802b-ec63208b570c"
      },
      "execution_count": 276,
      "outputs": [
        {
          "output_type": "stream",
          "name": "stdout",
          "text": [
            "<class 'pandas.core.frame.DataFrame'>\n",
            "Int64Index: 693 entries, 9 to 45029\n",
            "Data columns (total 24 columns):\n",
            " #   Column                 Non-Null Count  Dtype  \n",
            "---  ------                 --------------  -----  \n",
            " 0   adult                  693 non-null    object \n",
            " 1   belongs_to_collection  693 non-null    object \n",
            " 2   budget                 693 non-null    object \n",
            " 3   genres                 693 non-null    object \n",
            " 4   homepage               693 non-null    object \n",
            " 5   id                     693 non-null    object \n",
            " 6   imdb_id                693 non-null    object \n",
            " 7   original_language      693 non-null    object \n",
            " 8   original_title         693 non-null    object \n",
            " 9   overview               693 non-null    object \n",
            " 10  popularity             693 non-null    object \n",
            " 11  poster_path            693 non-null    object \n",
            " 12  production_companies   693 non-null    object \n",
            " 13  production_countries   693 non-null    object \n",
            " 14  release_date           693 non-null    object \n",
            " 15  revenue                693 non-null    float64\n",
            " 16  runtime                693 non-null    float64\n",
            " 17  spoken_languages       693 non-null    object \n",
            " 18  status                 693 non-null    object \n",
            " 19  tagline                693 non-null    object \n",
            " 20  title                  693 non-null    object \n",
            " 21  video                  693 non-null    object \n",
            " 22  vote_average           693 non-null    float64\n",
            " 23  vote_count             693 non-null    float64\n",
            "dtypes: float64(4), object(20)\n",
            "memory usage: 135.4+ KB\n"
          ]
        }
      ]
    },
    {
      "cell_type": "code",
      "source": [
        " credits = credits.dropna(how='any',axis=0)"
      ],
      "metadata": {
        "id": "7_ZvS2r9zeL1"
      },
      "execution_count": 277,
      "outputs": []
    },
    {
      "cell_type": "code",
      "source": [
        "credits.head()"
      ],
      "metadata": {
        "colab": {
          "base_uri": "https://localhost:8080/",
          "height": 206
        },
        "id": "6TmCeZ8Hzgwc",
        "outputId": "c746803a-72f5-4791-d677-0bc875b5bc1e"
      },
      "execution_count": 278,
      "outputs": [
        {
          "output_type": "execute_result",
          "data": {
            "text/plain": [
              "                                                cast  \\\n",
              "0  [{'cast_id': 14, 'character': 'Woody (voice)',...   \n",
              "1  [{'cast_id': 1, 'character': 'Alan Parrish', '...   \n",
              "2  [{'cast_id': 2, 'character': 'Max Goldman', 'c...   \n",
              "3  [{'cast_id': 1, 'character': \"Savannah 'Vannah...   \n",
              "4  [{'cast_id': 1, 'character': 'George Banks', '...   \n",
              "\n",
              "                                                crew     id  \n",
              "0  [{'credit_id': '52fe4284c3a36847f8024f49', 'de...    862  \n",
              "1  [{'credit_id': '52fe44bfc3a36847f80a7cd1', 'de...   8844  \n",
              "2  [{'credit_id': '52fe466a9251416c75077a89', 'de...  15602  \n",
              "3  [{'credit_id': '52fe44779251416c91011acb', 'de...  31357  \n",
              "4  [{'credit_id': '52fe44959251416c75039ed7', 'de...  11862  "
            ],
            "text/html": [
              "\n",
              "  <div id=\"df-9d6d3aae-b834-4702-9837-4b0a031d9f3f\">\n",
              "    <div class=\"colab-df-container\">\n",
              "      <div>\n",
              "<style scoped>\n",
              "    .dataframe tbody tr th:only-of-type {\n",
              "        vertical-align: middle;\n",
              "    }\n",
              "\n",
              "    .dataframe tbody tr th {\n",
              "        vertical-align: top;\n",
              "    }\n",
              "\n",
              "    .dataframe thead th {\n",
              "        text-align: right;\n",
              "    }\n",
              "</style>\n",
              "<table border=\"1\" class=\"dataframe\">\n",
              "  <thead>\n",
              "    <tr style=\"text-align: right;\">\n",
              "      <th></th>\n",
              "      <th>cast</th>\n",
              "      <th>crew</th>\n",
              "      <th>id</th>\n",
              "    </tr>\n",
              "  </thead>\n",
              "  <tbody>\n",
              "    <tr>\n",
              "      <th>0</th>\n",
              "      <td>[{'cast_id': 14, 'character': 'Woody (voice)',...</td>\n",
              "      <td>[{'credit_id': '52fe4284c3a36847f8024f49', 'de...</td>\n",
              "      <td>862</td>\n",
              "    </tr>\n",
              "    <tr>\n",
              "      <th>1</th>\n",
              "      <td>[{'cast_id': 1, 'character': 'Alan Parrish', '...</td>\n",
              "      <td>[{'credit_id': '52fe44bfc3a36847f80a7cd1', 'de...</td>\n",
              "      <td>8844</td>\n",
              "    </tr>\n",
              "    <tr>\n",
              "      <th>2</th>\n",
              "      <td>[{'cast_id': 2, 'character': 'Max Goldman', 'c...</td>\n",
              "      <td>[{'credit_id': '52fe466a9251416c75077a89', 'de...</td>\n",
              "      <td>15602</td>\n",
              "    </tr>\n",
              "    <tr>\n",
              "      <th>3</th>\n",
              "      <td>[{'cast_id': 1, 'character': \"Savannah 'Vannah...</td>\n",
              "      <td>[{'credit_id': '52fe44779251416c91011acb', 'de...</td>\n",
              "      <td>31357</td>\n",
              "    </tr>\n",
              "    <tr>\n",
              "      <th>4</th>\n",
              "      <td>[{'cast_id': 1, 'character': 'George Banks', '...</td>\n",
              "      <td>[{'credit_id': '52fe44959251416c75039ed7', 'de...</td>\n",
              "      <td>11862</td>\n",
              "    </tr>\n",
              "  </tbody>\n",
              "</table>\n",
              "</div>\n",
              "      <button class=\"colab-df-convert\" onclick=\"convertToInteractive('df-9d6d3aae-b834-4702-9837-4b0a031d9f3f')\"\n",
              "              title=\"Convert this dataframe to an interactive table.\"\n",
              "              style=\"display:none;\">\n",
              "        \n",
              "  <svg xmlns=\"http://www.w3.org/2000/svg\" height=\"24px\"viewBox=\"0 0 24 24\"\n",
              "       width=\"24px\">\n",
              "    <path d=\"M0 0h24v24H0V0z\" fill=\"none\"/>\n",
              "    <path d=\"M18.56 5.44l.94 2.06.94-2.06 2.06-.94-2.06-.94-.94-2.06-.94 2.06-2.06.94zm-11 1L8.5 8.5l.94-2.06 2.06-.94-2.06-.94L8.5 2.5l-.94 2.06-2.06.94zm10 10l.94 2.06.94-2.06 2.06-.94-2.06-.94-.94-2.06-.94 2.06-2.06.94z\"/><path d=\"M17.41 7.96l-1.37-1.37c-.4-.4-.92-.59-1.43-.59-.52 0-1.04.2-1.43.59L10.3 9.45l-7.72 7.72c-.78.78-.78 2.05 0 2.83L4 21.41c.39.39.9.59 1.41.59.51 0 1.02-.2 1.41-.59l7.78-7.78 2.81-2.81c.8-.78.8-2.07 0-2.86zM5.41 20L4 18.59l7.72-7.72 1.47 1.35L5.41 20z\"/>\n",
              "  </svg>\n",
              "      </button>\n",
              "      \n",
              "  <style>\n",
              "    .colab-df-container {\n",
              "      display:flex;\n",
              "      flex-wrap:wrap;\n",
              "      gap: 12px;\n",
              "    }\n",
              "\n",
              "    .colab-df-convert {\n",
              "      background-color: #E8F0FE;\n",
              "      border: none;\n",
              "      border-radius: 50%;\n",
              "      cursor: pointer;\n",
              "      display: none;\n",
              "      fill: #1967D2;\n",
              "      height: 32px;\n",
              "      padding: 0 0 0 0;\n",
              "      width: 32px;\n",
              "    }\n",
              "\n",
              "    .colab-df-convert:hover {\n",
              "      background-color: #E2EBFA;\n",
              "      box-shadow: 0px 1px 2px rgba(60, 64, 67, 0.3), 0px 1px 3px 1px rgba(60, 64, 67, 0.15);\n",
              "      fill: #174EA6;\n",
              "    }\n",
              "\n",
              "    [theme=dark] .colab-df-convert {\n",
              "      background-color: #3B4455;\n",
              "      fill: #D2E3FC;\n",
              "    }\n",
              "\n",
              "    [theme=dark] .colab-df-convert:hover {\n",
              "      background-color: #434B5C;\n",
              "      box-shadow: 0px 1px 3px 1px rgba(0, 0, 0, 0.15);\n",
              "      filter: drop-shadow(0px 1px 2px rgba(0, 0, 0, 0.3));\n",
              "      fill: #FFFFFF;\n",
              "    }\n",
              "  </style>\n",
              "\n",
              "      <script>\n",
              "        const buttonEl =\n",
              "          document.querySelector('#df-9d6d3aae-b834-4702-9837-4b0a031d9f3f button.colab-df-convert');\n",
              "        buttonEl.style.display =\n",
              "          google.colab.kernel.accessAllowed ? 'block' : 'none';\n",
              "\n",
              "        async function convertToInteractive(key) {\n",
              "          const element = document.querySelector('#df-9d6d3aae-b834-4702-9837-4b0a031d9f3f');\n",
              "          const dataTable =\n",
              "            await google.colab.kernel.invokeFunction('convertToInteractive',\n",
              "                                                     [key], {});\n",
              "          if (!dataTable) return;\n",
              "\n",
              "          const docLinkHtml = 'Like what you see? Visit the ' +\n",
              "            '<a target=\"_blank\" href=https://colab.research.google.com/notebooks/data_table.ipynb>data table notebook</a>'\n",
              "            + ' to learn more about interactive tables.';\n",
              "          element.innerHTML = '';\n",
              "          dataTable['output_type'] = 'display_data';\n",
              "          await google.colab.output.renderOutput(dataTable, element);\n",
              "          const docLink = document.createElement('div');\n",
              "          docLink.innerHTML = docLinkHtml;\n",
              "          element.appendChild(docLink);\n",
              "        }\n",
              "      </script>\n",
              "    </div>\n",
              "  </div>\n",
              "  "
            ]
          },
          "metadata": {},
          "execution_count": 278
        }
      ]
    },
    {
      "cell_type": "code",
      "source": [
        "credits.info()"
      ],
      "metadata": {
        "colab": {
          "base_uri": "https://localhost:8080/"
        },
        "id": "xANFR7gFzlBh",
        "outputId": "1a2eb997-1567-4a67-86fb-e3a66a7dadc9"
      },
      "execution_count": 279,
      "outputs": [
        {
          "output_type": "stream",
          "name": "stdout",
          "text": [
            "<class 'pandas.core.frame.DataFrame'>\n",
            "Int64Index: 40817 entries, 0 to 40816\n",
            "Data columns (total 3 columns):\n",
            " #   Column  Non-Null Count  Dtype \n",
            "---  ------  --------------  ----- \n",
            " 0   cast    40817 non-null  object\n",
            " 1   crew    40817 non-null  object\n",
            " 2   id      40817 non-null  int64 \n",
            "dtypes: int64(1), object(2)\n",
            "memory usage: 1.2+ MB\n"
          ]
        }
      ]
    },
    {
      "cell_type": "code",
      "source": [
        "movies = movies.astype({'budget':'int', 'id':'int'})\n",
        "movie_list = movies.merge(credits, on='id')"
      ],
      "metadata": {
        "id": "2lWgDz-G0-DJ"
      },
      "execution_count": 280,
      "outputs": []
    },
    {
      "cell_type": "code",
      "source": [
        "movies = movie_list[['genres', 'title', 'original_language','crew','cast','id', 'belongs_to_collection']]\n"
      ],
      "metadata": {
        "id": "gGoh0k8G8uhR"
      },
      "execution_count": 281,
      "outputs": []
    },
    {
      "cell_type": "code",
      "source": [
        "movies = movies.drop_duplicates()\n"
      ],
      "metadata": {
        "id": "clGeUl4sUEjE"
      },
      "execution_count": 282,
      "outputs": []
    },
    {
      "cell_type": "code",
      "source": [
        "import ast\n",
        "def convert(obj):\n",
        "  l=[]\n",
        "  for i in ast.literal_eval(obj):\n",
        "    l.append(i['name'])\n",
        "  return l"
      ],
      "metadata": {
        "id": "_gJ8W92uVBqn"
      },
      "execution_count": 283,
      "outputs": []
    },
    {
      "cell_type": "code",
      "source": [
        "def get_poster_path(obj):\n",
        "  return ast.literal_eval(obj)['poster_path']"
      ],
      "metadata": {
        "id": "rK6JPSFKUFlz"
      },
      "execution_count": 284,
      "outputs": []
    },
    {
      "cell_type": "code",
      "source": [
        "movies['genres'] = movies['genres'].apply(convert)\n",
        "movies['belongs_to_collection'] = movies['belongs_to_collection'].apply(get_poster_path)"
      ],
      "metadata": {
        "id": "-fIwamkHfI2-"
      },
      "execution_count": 285,
      "outputs": []
    },
    {
      "cell_type": "code",
      "source": [
        "def get_director_name(obj):\n",
        "  l=[]\n",
        "  for i in ast.literal_eval(obj):\n",
        "    if i['job'] == 'Director':\n",
        "      l.append(i['name'])\n",
        "    else:\n",
        "      break\n",
        "    return l"
      ],
      "metadata": {
        "id": "oX9t6Mal08pS"
      },
      "execution_count": 286,
      "outputs": []
    },
    {
      "cell_type": "code",
      "source": [
        "import ast\n",
        "def PcikFirstThree(obj):\n",
        "  c=0\n",
        "  l=[]\n",
        "  for i in ast.literal_eval(obj):\n",
        "    if c<3:\n",
        "      l.append(i['name'])\n",
        "      c +=1\n",
        "    else:\n",
        "      break\n",
        "  return l"
      ],
      "metadata": {
        "id": "hQgnGdgA2HPg"
      },
      "execution_count": 287,
      "outputs": []
    },
    {
      "cell_type": "code",
      "source": [
        "movies['cast'] = movies['cast'].apply(PcikFirstThree)\n"
      ],
      "metadata": {
        "id": "_TH2WBP_2YeF"
      },
      "execution_count": 288,
      "outputs": []
    },
    {
      "cell_type": "code",
      "source": [
        "movies['crew'] = movies['crew'].apply(get_director_name)"
      ],
      "metadata": {
        "id": "0MM4AHTI4sou"
      },
      "execution_count": 289,
      "outputs": []
    },
    {
      "cell_type": "code",
      "source": [
        "movies = movies.dropna(how='any',axis=0)"
      ],
      "metadata": {
        "id": "ocTgFdaE4yYb"
      },
      "execution_count": 290,
      "outputs": []
    },
    {
      "cell_type": "code",
      "source": [
        "movies['genres'] = movies['genres'].apply(lambda x: [i.replace(' ', '') for i in x])\n"
      ],
      "metadata": {
        "id": "xDvUs3FW4ww2",
        "colab": {
          "base_uri": "https://localhost:8080/"
        },
        "outputId": "825380f0-db71-44dd-8c25-dac0f5c833f5"
      },
      "execution_count": 291,
      "outputs": [
        {
          "output_type": "stream",
          "name": "stderr",
          "text": [
            "<ipython-input-291-bcf7985aa715>:1: SettingWithCopyWarning: \n",
            "A value is trying to be set on a copy of a slice from a DataFrame.\n",
            "Try using .loc[row_indexer,col_indexer] = value instead\n",
            "\n",
            "See the caveats in the documentation: https://pandas.pydata.org/pandas-docs/stable/user_guide/indexing.html#returning-a-view-versus-a-copy\n",
            "  movies['genres'] = movies['genres'].apply(lambda x: [i.replace(' ', '') for i in x])\n"
          ]
        }
      ]
    },
    {
      "cell_type": "code",
      "source": [
        "movies['crew'] = movies['crew'].apply(lambda x: [i.replace(' ', '') for i in x])\n",
        "movies['cast'] = movies['cast'].apply(lambda x: [i.replace(' ', '') for i in x])"
      ],
      "metadata": {
        "id": "Z9Lo1Gc8NXvQ",
        "colab": {
          "base_uri": "https://localhost:8080/"
        },
        "outputId": "e2944448-1079-4fd2-9502-85ad67633ad7"
      },
      "execution_count": 292,
      "outputs": [
        {
          "output_type": "stream",
          "name": "stderr",
          "text": [
            "<ipython-input-292-e87accf9810f>:1: SettingWithCopyWarning: \n",
            "A value is trying to be set on a copy of a slice from a DataFrame.\n",
            "Try using .loc[row_indexer,col_indexer] = value instead\n",
            "\n",
            "See the caveats in the documentation: https://pandas.pydata.org/pandas-docs/stable/user_guide/indexing.html#returning-a-view-versus-a-copy\n",
            "  movies['crew'] = movies['crew'].apply(lambda x: [i.replace(' ', '') for i in x])\n",
            "<ipython-input-292-e87accf9810f>:2: SettingWithCopyWarning: \n",
            "A value is trying to be set on a copy of a slice from a DataFrame.\n",
            "Try using .loc[row_indexer,col_indexer] = value instead\n",
            "\n",
            "See the caveats in the documentation: https://pandas.pydata.org/pandas-docs/stable/user_guide/indexing.html#returning-a-view-versus-a-copy\n",
            "  movies['cast'] = movies['cast'].apply(lambda x: [i.replace(' ', '') for i in x])\n"
          ]
        }
      ]
    },
    {
      "cell_type": "code",
      "source": [
        "movies['tags'] = movies['genres'] + movies['crew'] + movies['cast']\n"
      ],
      "metadata": {
        "id": "3-VauL3VN30F",
        "colab": {
          "base_uri": "https://localhost:8080/"
        },
        "outputId": "b5456bb5-7bfa-4af7-b88d-33d56ebba17f"
      },
      "execution_count": 293,
      "outputs": [
        {
          "output_type": "stream",
          "name": "stderr",
          "text": [
            "<ipython-input-293-bc6a5957578e>:1: SettingWithCopyWarning: \n",
            "A value is trying to be set on a copy of a slice from a DataFrame.\n",
            "Try using .loc[row_indexer,col_indexer] = value instead\n",
            "\n",
            "See the caveats in the documentation: https://pandas.pydata.org/pandas-docs/stable/user_guide/indexing.html#returning-a-view-versus-a-copy\n",
            "  movies['tags'] = movies['genres'] + movies['crew'] + movies['cast']\n"
          ]
        }
      ]
    },
    {
      "cell_type": "code",
      "source": [
        "movies = movies[['id', 'title', 'tags', 'belongs_to_collection']]"
      ],
      "metadata": {
        "id": "MEDo7U_7Vulk"
      },
      "execution_count": 294,
      "outputs": []
    },
    {
      "cell_type": "code",
      "source": [
        "movies['tags'] = movies['tags'].apply(lambda x: ' '.join(x))"
      ],
      "metadata": {
        "id": "lzuWD2fSV7nB"
      },
      "execution_count": 295,
      "outputs": []
    },
    {
      "cell_type": "code",
      "source": [
        "movies['tags'] = movies['tags'].apply(lambda s : s.lower())"
      ],
      "metadata": {
        "id": "Y8sPbw4WYBM3"
      },
      "execution_count": 296,
      "outputs": []
    },
    {
      "cell_type": "code",
      "source": [
        "import nltk\n",
        "from nltk.stem.porter import PorterStemmer"
      ],
      "metadata": {
        "id": "s8u3awFbYWs-"
      },
      "execution_count": 297,
      "outputs": []
    },
    {
      "cell_type": "code",
      "source": [
        "ps = PorterStemmer()\n",
        "def stem(obj):\n",
        "  l=[ps.stem(i) for i in obj.split()]\n",
        "  return ' '.join(l)\n"
      ],
      "metadata": {
        "id": "6KrVFMbjdg1M"
      },
      "execution_count": 298,
      "outputs": []
    },
    {
      "cell_type": "code",
      "source": [
        "movies['tags'] = movies['tags'].apply(stem)\n"
      ],
      "metadata": {
        "id": "KO6FBEqpdwpm"
      },
      "execution_count": 299,
      "outputs": []
    },
    {
      "cell_type": "code",
      "source": [
        "movies.head()"
      ],
      "metadata": {
        "colab": {
          "base_uri": "https://localhost:8080/",
          "height": 206
        },
        "id": "JBXbxzaq0eV5",
        "outputId": "fa64bb81-491d-4429-c414-6343ccf59ffe"
      },
      "execution_count": 300,
      "outputs": [
        {
          "output_type": "execute_result",
          "data": {
            "text/plain": [
              "      id                title  \\\n",
              "0    710            GoldenEye   \n",
              "1  10634               Friday   \n",
              "2    755  From Dusk Till Dawn   \n",
              "3   5894     Blue in the Face   \n",
              "6     11            Star Wars   \n",
              "\n",
              "                                                tags  \\\n",
              "0  adventur action thriller martincampbel pierceb...   \n",
              "1         comedi f.garygray icecub christuck nialong   \n",
              "2  horror action thriller crime robertrodriguez g...   \n",
              "3    comedi paulaust harveykeitel loure michaelj.fox   \n",
              "6  adventur action sciencefict georgeluca markham...   \n",
              "\n",
              "              belongs_to_collection  \n",
              "0   /HORpg5CSkmeQlAolx3bKMrKgfi.jpg  \n",
              "1  /dWh1Fohgx07AEd4vRUwgIj8BYxD.jpg  \n",
              "2  /a156nAy5ZTGXlO5wgfvnF26aaDB.jpg  \n",
              "3  /bgiPsYjbjbRFmEeUfYlp8ZDBVJJ.jpg  \n",
              "6   /ghd5zOQnDaDW1mxO7R5fXXpZMu.jpg  "
            ],
            "text/html": [
              "\n",
              "  <div id=\"df-dc0d4f87-5dce-490d-a429-9e13525469ba\">\n",
              "    <div class=\"colab-df-container\">\n",
              "      <div>\n",
              "<style scoped>\n",
              "    .dataframe tbody tr th:only-of-type {\n",
              "        vertical-align: middle;\n",
              "    }\n",
              "\n",
              "    .dataframe tbody tr th {\n",
              "        vertical-align: top;\n",
              "    }\n",
              "\n",
              "    .dataframe thead th {\n",
              "        text-align: right;\n",
              "    }\n",
              "</style>\n",
              "<table border=\"1\" class=\"dataframe\">\n",
              "  <thead>\n",
              "    <tr style=\"text-align: right;\">\n",
              "      <th></th>\n",
              "      <th>id</th>\n",
              "      <th>title</th>\n",
              "      <th>tags</th>\n",
              "      <th>belongs_to_collection</th>\n",
              "    </tr>\n",
              "  </thead>\n",
              "  <tbody>\n",
              "    <tr>\n",
              "      <th>0</th>\n",
              "      <td>710</td>\n",
              "      <td>GoldenEye</td>\n",
              "      <td>adventur action thriller martincampbel pierceb...</td>\n",
              "      <td>/HORpg5CSkmeQlAolx3bKMrKgfi.jpg</td>\n",
              "    </tr>\n",
              "    <tr>\n",
              "      <th>1</th>\n",
              "      <td>10634</td>\n",
              "      <td>Friday</td>\n",
              "      <td>comedi f.garygray icecub christuck nialong</td>\n",
              "      <td>/dWh1Fohgx07AEd4vRUwgIj8BYxD.jpg</td>\n",
              "    </tr>\n",
              "    <tr>\n",
              "      <th>2</th>\n",
              "      <td>755</td>\n",
              "      <td>From Dusk Till Dawn</td>\n",
              "      <td>horror action thriller crime robertrodriguez g...</td>\n",
              "      <td>/a156nAy5ZTGXlO5wgfvnF26aaDB.jpg</td>\n",
              "    </tr>\n",
              "    <tr>\n",
              "      <th>3</th>\n",
              "      <td>5894</td>\n",
              "      <td>Blue in the Face</td>\n",
              "      <td>comedi paulaust harveykeitel loure michaelj.fox</td>\n",
              "      <td>/bgiPsYjbjbRFmEeUfYlp8ZDBVJJ.jpg</td>\n",
              "    </tr>\n",
              "    <tr>\n",
              "      <th>6</th>\n",
              "      <td>11</td>\n",
              "      <td>Star Wars</td>\n",
              "      <td>adventur action sciencefict georgeluca markham...</td>\n",
              "      <td>/ghd5zOQnDaDW1mxO7R5fXXpZMu.jpg</td>\n",
              "    </tr>\n",
              "  </tbody>\n",
              "</table>\n",
              "</div>\n",
              "      <button class=\"colab-df-convert\" onclick=\"convertToInteractive('df-dc0d4f87-5dce-490d-a429-9e13525469ba')\"\n",
              "              title=\"Convert this dataframe to an interactive table.\"\n",
              "              style=\"display:none;\">\n",
              "        \n",
              "  <svg xmlns=\"http://www.w3.org/2000/svg\" height=\"24px\"viewBox=\"0 0 24 24\"\n",
              "       width=\"24px\">\n",
              "    <path d=\"M0 0h24v24H0V0z\" fill=\"none\"/>\n",
              "    <path d=\"M18.56 5.44l.94 2.06.94-2.06 2.06-.94-2.06-.94-.94-2.06-.94 2.06-2.06.94zm-11 1L8.5 8.5l.94-2.06 2.06-.94-2.06-.94L8.5 2.5l-.94 2.06-2.06.94zm10 10l.94 2.06.94-2.06 2.06-.94-2.06-.94-.94-2.06-.94 2.06-2.06.94z\"/><path d=\"M17.41 7.96l-1.37-1.37c-.4-.4-.92-.59-1.43-.59-.52 0-1.04.2-1.43.59L10.3 9.45l-7.72 7.72c-.78.78-.78 2.05 0 2.83L4 21.41c.39.39.9.59 1.41.59.51 0 1.02-.2 1.41-.59l7.78-7.78 2.81-2.81c.8-.78.8-2.07 0-2.86zM5.41 20L4 18.59l7.72-7.72 1.47 1.35L5.41 20z\"/>\n",
              "  </svg>\n",
              "      </button>\n",
              "      \n",
              "  <style>\n",
              "    .colab-df-container {\n",
              "      display:flex;\n",
              "      flex-wrap:wrap;\n",
              "      gap: 12px;\n",
              "    }\n",
              "\n",
              "    .colab-df-convert {\n",
              "      background-color: #E8F0FE;\n",
              "      border: none;\n",
              "      border-radius: 50%;\n",
              "      cursor: pointer;\n",
              "      display: none;\n",
              "      fill: #1967D2;\n",
              "      height: 32px;\n",
              "      padding: 0 0 0 0;\n",
              "      width: 32px;\n",
              "    }\n",
              "\n",
              "    .colab-df-convert:hover {\n",
              "      background-color: #E2EBFA;\n",
              "      box-shadow: 0px 1px 2px rgba(60, 64, 67, 0.3), 0px 1px 3px 1px rgba(60, 64, 67, 0.15);\n",
              "      fill: #174EA6;\n",
              "    }\n",
              "\n",
              "    [theme=dark] .colab-df-convert {\n",
              "      background-color: #3B4455;\n",
              "      fill: #D2E3FC;\n",
              "    }\n",
              "\n",
              "    [theme=dark] .colab-df-convert:hover {\n",
              "      background-color: #434B5C;\n",
              "      box-shadow: 0px 1px 3px 1px rgba(0, 0, 0, 0.15);\n",
              "      filter: drop-shadow(0px 1px 2px rgba(0, 0, 0, 0.3));\n",
              "      fill: #FFFFFF;\n",
              "    }\n",
              "  </style>\n",
              "\n",
              "      <script>\n",
              "        const buttonEl =\n",
              "          document.querySelector('#df-dc0d4f87-5dce-490d-a429-9e13525469ba button.colab-df-convert');\n",
              "        buttonEl.style.display =\n",
              "          google.colab.kernel.accessAllowed ? 'block' : 'none';\n",
              "\n",
              "        async function convertToInteractive(key) {\n",
              "          const element = document.querySelector('#df-dc0d4f87-5dce-490d-a429-9e13525469ba');\n",
              "          const dataTable =\n",
              "            await google.colab.kernel.invokeFunction('convertToInteractive',\n",
              "                                                     [key], {});\n",
              "          if (!dataTable) return;\n",
              "\n",
              "          const docLinkHtml = 'Like what you see? Visit the ' +\n",
              "            '<a target=\"_blank\" href=https://colab.research.google.com/notebooks/data_table.ipynb>data table notebook</a>'\n",
              "            + ' to learn more about interactive tables.';\n",
              "          element.innerHTML = '';\n",
              "          dataTable['output_type'] = 'display_data';\n",
              "          await google.colab.output.renderOutput(dataTable, element);\n",
              "          const docLink = document.createElement('div');\n",
              "          docLink.innerHTML = docLinkHtml;\n",
              "          element.appendChild(docLink);\n",
              "        }\n",
              "      </script>\n",
              "    </div>\n",
              "  </div>\n",
              "  "
            ]
          },
          "metadata": {},
          "execution_count": 300
        }
      ]
    },
    {
      "cell_type": "code",
      "source": [
        "movies.info()"
      ],
      "metadata": {
        "colab": {
          "base_uri": "https://localhost:8080/"
        },
        "id": "Vct-ccjz0j4v",
        "outputId": "5e4d9061-88b5-4971-ba73-3c86cbd8d4a4"
      },
      "execution_count": 301,
      "outputs": [
        {
          "output_type": "stream",
          "name": "stdout",
          "text": [
            "<class 'pandas.core.frame.DataFrame'>\n",
            "Int64Index: 209 entries, 0 to 659\n",
            "Data columns (total 4 columns):\n",
            " #   Column                 Non-Null Count  Dtype \n",
            "---  ------                 --------------  ----- \n",
            " 0   id                     209 non-null    int64 \n",
            " 1   title                  209 non-null    object\n",
            " 2   tags                   209 non-null    object\n",
            " 3   belongs_to_collection  209 non-null    object\n",
            "dtypes: int64(1), object(3)\n",
            "memory usage: 8.2+ KB\n"
          ]
        }
      ]
    },
    {
      "cell_type": "code",
      "source": [
        "idx = pd.Index(range(0, 209, 1))\n",
        "movies = movies.set_index(idx)"
      ],
      "metadata": {
        "id": "Ubt0YdvDraQa"
      },
      "execution_count": 302,
      "outputs": []
    },
    {
      "cell_type": "markdown",
      "source": [
        "# New Section"
      ],
      "metadata": {
        "id": "cCRM3Pz9Gfg6"
      }
    },
    {
      "cell_type": "markdown",
      "source": [
        "Model \n"
      ],
      "metadata": {
        "id": "K_kQQoVpsSVz"
      }
    },
    {
      "cell_type": "code",
      "source": [
        "!pip install scikit-learn"
      ],
      "metadata": {
        "colab": {
          "base_uri": "https://localhost:8080/"
        },
        "id": "C1qqZjjlsXSC",
        "outputId": "c008d6f2-9ca1-49e6-a365-692c192bd78c"
      },
      "execution_count": 303,
      "outputs": [
        {
          "output_type": "stream",
          "name": "stdout",
          "text": [
            "Looking in indexes: https://pypi.org/simple, https://us-python.pkg.dev/colab-wheels/public/simple/\n",
            "Requirement already satisfied: scikit-learn in /usr/local/lib/python3.8/dist-packages (1.0.2)\n",
            "Requirement already satisfied: threadpoolctl>=2.0.0 in /usr/local/lib/python3.8/dist-packages (from scikit-learn) (3.1.0)\n",
            "Requirement already satisfied: numpy>=1.14.6 in /usr/local/lib/python3.8/dist-packages (from scikit-learn) (1.21.6)\n",
            "Requirement already satisfied: scipy>=1.1.0 in /usr/local/lib/python3.8/dist-packages (from scikit-learn) (1.7.3)\n",
            "Requirement already satisfied: joblib>=0.11 in /usr/local/lib/python3.8/dist-packages (from scikit-learn) (1.2.0)\n"
          ]
        }
      ]
    },
    {
      "cell_type": "code",
      "source": [
        "from sklearn.feature_extraction.text import CountVectorizer\n",
        "cv = CountVectorizer(max_features = 1000, stop_words = 'english')\n"
      ],
      "metadata": {
        "id": "hYDy9yLNsiJu"
      },
      "execution_count": 304,
      "outputs": []
    },
    {
      "cell_type": "code",
      "source": [
        "vector = cv.fit_transform(movies['tags']).toarray()"
      ],
      "metadata": {
        "id": "o48hOWd_snb5"
      },
      "execution_count": 305,
      "outputs": []
    },
    {
      "cell_type": "code",
      "source": [
        "# cv.get_feature_names_out()\n",
        "# vector"
      ],
      "metadata": {
        "id": "xTtb5rW6tF9l"
      },
      "execution_count": 306,
      "outputs": []
    },
    {
      "cell_type": "code",
      "source": [
        "from sklearn.metrics.pairwise import cosine_similarity\n",
        "recommend_var = cosine_similarity(vector)"
      ],
      "metadata": {
        "id": "_z6iZPoj1trC"
      },
      "execution_count": 307,
      "outputs": []
    },
    {
      "cell_type": "code",
      "source": [
        "sorted(enumerate(recommend_var[0]), reverse=True, key=lambda x:x[1])[1:6]\n",
        "# movies.iloc[0].title\n",
        "# recommend_var[0]\n",
        "\n",
        "# movies[movies['title']=='GoldenEye'].id"
      ],
      "metadata": {
        "colab": {
          "base_uri": "https://localhost:8080/"
        },
        "id": "dmqRqYSL3WPt",
        "outputId": "00490836-76ec-4475-d05c-c4819327d140"
      },
      "execution_count": 308,
      "outputs": [
        {
          "output_type": "execute_result",
          "data": {
            "text/plain": [
              "[(23, 0.5714285714285713),\n",
              " (59, 0.5714285714285713),\n",
              " (7, 0.4285714285714285),\n",
              " (30, 0.4285714285714285),\n",
              " (35, 0.4285714285714285)]"
            ]
          },
          "metadata": {},
          "execution_count": 308
        }
      ]
    },
    {
      "cell_type": "code",
      "source": [
        "def recommend(movie):\n",
        "  movie_index = movies[movies['title']==movie].index[0]\n",
        "  movie_index_list = sorted(enumerate(recommend_var[movie_index]), reverse=True, key=lambda x:x[1])[1:6]\n",
        "  return [movies.iloc[i[0]].title for i in movie_index_list]"
      ],
      "metadata": {
        "id": "NFmFHHMTuWN-"
      },
      "execution_count": 309,
      "outputs": []
    },
    {
      "cell_type": "code",
      "source": [
        "recommend('House of the Dead')"
      ],
      "metadata": {
        "colab": {
          "base_uri": "https://localhost:8080/"
        },
        "id": "NHP79UnD--GE",
        "outputId": "7cfbf8cb-9eb6-414b-a340-883256db3c5b"
      },
      "execution_count": 310,
      "outputs": [
        {
          "output_type": "execute_result",
          "data": {
            "text/plain": [
              "['The Purge: Election Year',\n",
              " 'From Dusk Till Dawn',\n",
              " 'Alien',\n",
              " 'Blade II',\n",
              " 'Vampires']"
            ]
          },
          "metadata": {},
          "execution_count": 310
        }
      ]
    },
    {
      "cell_type": "code",
      "source": [
        "import pickle \n",
        "pickle.dump(movies.to_dict(), open('movies_dict.pkl', 'wb'))"
      ],
      "metadata": {
        "id": "P4rhNKvQV5jK"
      },
      "execution_count": 311,
      "outputs": []
    },
    {
      "cell_type": "code",
      "source": [
        "pickle.dump(recommend_var, open('recommend_var.pkl', 'wb'))"
      ],
      "metadata": {
        "id": "Dup27IRViOXK"
      },
      "execution_count": 312,
      "outputs": []
    }
  ]
}